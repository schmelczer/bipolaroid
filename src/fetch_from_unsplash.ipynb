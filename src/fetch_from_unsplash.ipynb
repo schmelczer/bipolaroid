{
 "cells": [
  {
   "cell_type": "code",
   "execution_count": null,
   "metadata": {},
   "outputs": [],
   "source": [
    "import polars as pl\n",
    "from pathlib import Path\n",
    "import logging\n",
    "from utils import set_up_logging, delete_corrupt_images\n",
    "\n",
    "set_up_logging(Path(\"../logs\"))\n",
    "\n",
    "RETRY_COUNT = 10\n",
    "WORKER_COUNT = 64\n",
    "HTTP_TIMEOUT = 30\n",
    "TARGET_PATH = Path(\"/bulk2/downloaded-unsplash\")\n",
    "\n",
    "TARGET_PATH = TARGET_PATH.resolve()\n",
    "assert TARGET_PATH.exists()\n",
    "delete_corrupt_images(list(TARGET_PATH.glob(\"*\")))"
   ]
  },
  {
   "cell_type": "code",
   "execution_count": null,
   "metadata": {},
   "outputs": [],
   "source": [
    "photos = (\n",
    "    pl.scan_csv(\n",
    "        \"../data/unsplash-full/photos.tsv000\",\n",
    "        separator=\"\\t\",\n",
    "        infer_schema_length=100000,\n",
    "    )\n",
    "    .filter(pl.col(\"photo_featured\") == \"t\")\n",
    "    .sort(\"photo_id\")\n",
    "    .select(\"photo_id\", \"photo_url\")\n",
    "    .collect()\n",
    ")\n",
    "\n",
    "photos.limit(10)"
   ]
  },
  {
   "cell_type": "code",
   "execution_count": null,
   "metadata": {},
   "outputs": [],
   "source": [
    "keys = {path.name.split(\".\")[0] for path in TARGET_PATH.glob(\"*\")}\n",
    "photos = photos.filter(~pl.col(\"photo_id\").is_in(keys))\n",
    "logging.info(f\"Found {len(photos)} missing photos\")"
   ]
  },
  {
   "cell_type": "code",
   "execution_count": null,
   "metadata": {},
   "outputs": [],
   "source": [
    "import concurrent.futures\n",
    "import requests\n",
    "from tqdm import tqdm\n",
    "from typing import List\n",
    "from time import sleep\n",
    "\n",
    "progress = tqdm(total=len(photos))\n",
    "\n",
    "def download_image(row):\n",
    "    for retry_count in range(RETRY_COUNT):\n",
    "        try:\n",
    "            logging.debug(f\"Downloading {row['photo_id']} from {row['photo_url']}\")\n",
    "            response = requests.get(row[\"photo_image_url\"], timeout=HTTP_TIMEOUT)\n",
    "            response.raise_for_status()\n",
    "            extension = response.headers[\"Content-Type\"].split(\"/\")[-1]\n",
    "            filename = TARGET_PATH / f\"{row['photo_id']}.{extension}\"\n",
    "            with open(filename, \"wb\") as f:\n",
    "                f.write(response.content)\n",
    "            logging.debug(f\"Downloaded {row['photo_id']} to {filename}\")\n",
    "            with progress.get_lock():\n",
    "                progress.update(1)\n",
    "            return\n",
    "        except Exception as e:\n",
    "            logging.error(\n",
    "                f\"Error downloading {row['photo_id']} from {row['photo_url']} (retry {retry_count}): {e}\"\n",
    "            )\n",
    "            sleep(retry_count * 0.5)\n",
    "\n",
    "\n",
    "with concurrent.futures.ThreadPoolExecutor(max_workers=WORKER_COUNT) as executor:\n",
    "    futures: List[concurrent.futures.Future] = []\n",
    "    for row in photos.to_dicts():\n",
    "        future = executor.submit(download_image, row)\n",
    "        futures.append(future)\n",
    "\n",
    "    progress.display()\n",
    "    concurrent.futures.wait(futures)\n",
    "progress.close()"
   ]
  },
  {
   "cell_type": "code",
   "execution_count": null,
   "metadata": {},
   "outputs": [],
   "source": [
    "delete_corrupt_images(list(TARGET_PATH.glob(\"*\")))"
   ]
  }
 ],
 "metadata": {
  "kernelspec": {
   "display_name": "bipolaroid",
   "language": "python",
   "name": "python3"
  },
  "language_info": {
   "codemirror_mode": {
    "name": "ipython",
    "version": 3
   },
   "file_extension": ".py",
   "mimetype": "text/x-python",
   "name": "python",
   "nbconvert_exporter": "python",
   "pygments_lexer": "ipython3",
   "version": "3.12.2"
  }
 },
 "nbformat": 4,
 "nbformat_minor": 2
}
