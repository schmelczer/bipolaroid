{
 "cells": [
  {
   "cell_type": "code",
   "execution_count": 1,
   "metadata": {
    "metadata": {}
   },
   "outputs": [
    {
     "data": {
      "text/plain": [
       "'Using device cuda:0'"
      ]
     },
     "execution_count": 1,
     "metadata": {},
     "output_type": "execute_result"
    }
   ],
   "source": [
    "import torch\n",
    "import os\n",
    "from utils import set_up_logging\n",
    "from config import LOGS_PATH\n",
    "\n",
    "set_up_logging(LOGS_PATH)\n",
    "\n",
    "os.environ[\"PYTORCH_CUDA_ALLOC_CONF\"] = \"expandable_segments:True\"\n",
    "device = torch.device(\"cuda:0\") if torch.cuda.is_available() else torch.device(\"cpu\")\n",
    "f\"Using device {device}\""
   ]
  },
  {
   "cell_type": "code",
   "execution_count": 2,
   "metadata": {},
   "outputs": [],
   "source": [
    "# from training import train\n",
    "from config import RUNS_PATH, TRAIN_DATA, TEST_DATA, MODELS_PATH\n",
    "\n",
    "\n",
    "# hparams = {\n",
    "#     \"batch_size\": 64,\n",
    "#     \"edit_count\": 12,\n",
    "#     \"bin_count\": 16,\n",
    "#     \"learning_rate\": 0.001,\n",
    "#     \"scheduler_gamma\": 0.9,\n",
    "#     \"num_epochs\": 12,\n",
    "#     \"model_type\": \"SimpleCNN\",\n",
    "# }\n",
    "\n",
    "# train(\n",
    "#     hparams,\n",
    "#     train_data_paths=TRAIN_DATA,\n",
    "#     test_data_paths=TEST_DATA,\n",
    "#     log_dir=RUNS_PATH,\n",
    "#     max_duration=None,\n",
    "#     use_tqdm=True,\n",
    "#     device=device,\n",
    "#     **hparams\n",
    "# )"
   ]
  },
  {
   "cell_type": "code",
   "execution_count": 3,
   "metadata": {},
   "outputs": [
    {
     "name": "stderr",
     "output_type": "stream",
     "text": [
      "2024-06-27 22:27:47,571 - INFO - Testing model Dummy\n",
      "2024-06-27 22:27:47,576 - INFO - Test passed! Output shape matches input shape.\n",
      "2024-06-27 22:27:47,576 - INFO - Testing model SimpleCNN\n",
      "2024-06-27 22:27:48,012 - INFO - Test passed! Output shape matches input shape.\n",
      "2024-06-27 22:27:48,014 - INFO - Testing model Residual\n",
      "2024-06-27 22:27:49,044 - INFO - Test passed! Output shape matches input shape.\n",
      "2024-06-27 22:27:49,048 - INFO - Testing model HistogramNet\n",
      "2024-06-27 22:27:50,526 - INFO - Test passed! Output shape matches input shape.\n",
      "2024-06-27 22:27:50,536 - INFO - Starting run_0 with hparams {\n",
      "  \"batch_size\": 64,\n",
      "  \"bin_count\": 16,\n",
      "  \"dropout_prob\": 0.07931334001160453,\n",
      "  \"edit_count\": 12,\n",
      "  \"elu_alpha\": 1.4632917556519958,\n",
      "  \"features\": [\n",
      "    8,\n",
      "    16,\n",
      "    32\n",
      "  ],\n",
      "  \"kernel_size\": 5,\n",
      "  \"leaky_relu_alpha\": 0.04009731835331415,\n",
      "  \"leaky_relu_slope\": 0.005283501654875031,\n",
      "  \"learning_rate\": 0.000798531032420656,\n",
      "  \"model_type\": \"HistogramNet\",\n",
      "  \"num_epochs\": 12,\n",
      "  \"scheduler_gamma\": 0.8420623161905719,\n",
      "  \"use_elu\": true,\n",
      "  \"use_instance_norm\": false,\n",
      "  \"use_residual\": false\n",
      "}\n",
      "2024-06-27 22:27:50,584 - INFO - Loaded 22479 original images\n",
      "2024-06-27 22:27:50,588 - INFO - Loaded 2498 original images\n",
      "2024-06-27 22:27:55,003 - INFO - Original result 322461.46875\n",
      "2024-06-27 22:28:40,001 - INFO - Epoch 0 train loss: 5343.839758455753\n",
      "2024-06-27 22:28:44,685 - INFO - Epoch 0 test loss: 531.2615858912468\n",
      "2024-06-27 22:28:45,500 - INFO - Original result 404787.25\n"
     ]
    }
   ],
   "source": [
    "from scipy.stats import loguniform, uniform, randint\n",
    "from training import random_hparam_search, get_next_run_name\n",
    "from models import MODELS, test_models\n",
    "\n",
    "\n",
    "hyperparameters = [\n",
    "    {\n",
    "        \"batch_size\": [32, 64, 128],\n",
    "        \"edit_count\": [12],\n",
    "        \"bin_count\": [16],\n",
    "        \"learning_rate\": loguniform(5e-4, 5e-3),\n",
    "        \"scheduler_gamma\": uniform(loc=0.8, scale=0.15),\n",
    "        \"num_epochs\": [12],\n",
    "        \"elu_alpha\": uniform(0.5, 1.5),\n",
    "        \"leaky_relu_slope\": uniform(0, 0.03),\n",
    "        \"dropout_prob\": uniform(0, 0.1),\n",
    "        \"features\": [\n",
    "            [16, 32, 64],\n",
    "            [32, 64],\n",
    "            [16, 32],\n",
    "            [32, 64, 128],\n",
    "            [8, 16, 32],\n",
    "            [8, 8, 8],\n",
    "            [8, 8, 8, 8, 8],\n",
    "            [16, 16, 16],\n",
    "            [32, 32],\n",
    "            [64, 64],\n",
    "        ],\n",
    "        \"use_residual\": [True, False],\n",
    "        \"kernel_size\": [3, 5],\n",
    "        \"model_type\": [\"HistogramNet\"],\n",
    "        \"use_instance_norm\": [True, False],\n",
    "        \"use_elu\": [True, False],\n",
    "        \"leaky_relu_alpha\": uniform(0, 0.05),\n",
    "    }\n",
    "]\n",
    "\n",
    "test_models()\n",
    "\n",
    "random_hparam_search(\n",
    "    hyperparameters=hyperparameters,\n",
    "    train_data_paths=TRAIN_DATA,\n",
    "    test_data_paths=TEST_DATA,\n",
    "    models_path=MODELS_PATH,\n",
    "    tensorboard_path=RUNS_PATH / get_next_run_name(RUNS_PATH),\n",
    "    timeout_hours=4,\n",
    "    device=device,\n",
    ")"
   ]
  }
 ],
 "metadata": {
  "kernelspec": {
   "display_name": "bipolaroid",
   "language": "python",
   "name": "python3"
  },
  "language_info": {
   "codemirror_mode": {
    "name": "ipython",
    "version": 3
   },
   "file_extension": ".py",
   "mimetype": "text/x-python",
   "name": "python",
   "nbconvert_exporter": "python",
   "pygments_lexer": "ipython3",
   "version": "3.12.2"
  }
 },
 "nbformat": 4,
 "nbformat_minor": 2
}
