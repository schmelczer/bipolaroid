{
 "cells": [
  {
   "cell_type": "code",
   "execution_count": 1,
   "metadata": {
    "metadata": {}
   },
   "outputs": [
    {
     "data": {
      "text/plain": [
       "'Using device cuda:0'"
      ]
     },
     "execution_count": 1,
     "metadata": {},
     "output_type": "execute_result"
    }
   ],
   "source": [
    "import torch\n",
    "import os\n",
    "from utils import set_up_logging\n",
    "from config import LOGS_PATH\n",
    "\n",
    "set_up_logging(LOGS_PATH)\n",
    "\n",
    "os.environ[\"PYTORCH_CUDA_ALLOC_CONF\"] = \"expandable_segments:True\"\n",
    "device = torch.device(\"cuda:0\") if torch.cuda.is_available() else torch.device(\"cpu\")\n",
    "f\"Using device {device}\""
   ]
  },
  {
   "cell_type": "code",
   "execution_count": 2,
   "metadata": {},
   "outputs": [
    {
     "name": "stderr",
     "output_type": "stream",
     "text": [
      "2024-06-25 08:59:52,244 - INFO - Testing model Dummy\n",
      "2024-06-25 08:59:52,249 - INFO - Test passed! Output shape matches input shape.\n",
      "2024-06-25 08:59:52,249 - INFO - Testing model SimpleCNN\n",
      "2024-06-25 08:59:52,746 - INFO - Test passed! Output shape matches input shape.\n",
      "2024-06-25 08:59:52,752 - INFO - Testing model Residual\n",
      "2024-06-25 08:59:53,853 - INFO - Test passed! Output shape matches input shape.\n",
      "2024-06-25 08:59:53,917 - INFO - Testing model Residual3\n",
      "2024-06-25 08:59:55,590 - INFO - Test passed! Output shape matches input shape.\n"
     ]
    }
   ],
   "source": [
    "from scipy.stats import loguniform, uniform, randint\n",
    "from models import MODELS, test_models\n",
    "\n",
    "\n",
    "hyperparameters = [\n",
    "    {\n",
    "        \"batch_size\": [32, 64, 128],\n",
    "        \"edit_count\": [12],\n",
    "        \"bin_count\": [16],\n",
    "        \"learning_rate\": loguniform(5e-4, 5e-3),\n",
    "        \"scheduler_gamma\": uniform(loc=0.8, scale=0.15),\n",
    "        \"num_epochs\": [12],\n",
    "        \"elu_alpha\": uniform(0.5, 1.5),\n",
    "        \"leaky_relu_slope\": uniform(0, 0.03),\n",
    "        \"dropout_prob\": uniform(0, 0.1),\n",
    "        \"features\": [[16, 32, 64], [32, 64, 128], [8, 16, 32], [8, 8, 8], [16, 16, 16]],\n",
    "        \"kernel_sizes\": [[3, 3, 3]],\n",
    "        \"model_type\": [\"Residual3\"],  # list(MODELS.keys()),\n",
    "        \"clip_gradients\": [True, False],\n",
    "        \"use_instance_norm\": [True, False],\n",
    "        \"use_elu\": [True, False],\n",
    "        \"leaky_relu_alpha\": uniform(0, 0.05),\n",
    "    }\n",
    "]\n",
    "\n",
    "test_models()"
   ]
  },
  {
   "cell_type": "code",
   "execution_count": 3,
   "metadata": {},
   "outputs": [],
   "source": [
    "# train(\n",
    "#     {\n",
    "#         \"batch_size\": 128,\n",
    "#         \"edit_count\": 12,\n",
    "#         \"bin_count\": 16,\n",
    "#         \"learning_rate\": 1e-3,\n",
    "#         \"scheduler_gamma\": 0.8,\n",
    "#         \"elu_alpha\": 1,\n",
    "#         \"dropout_prob\": 0.05,\n",
    "#         \"features\": [8, 16, 32],\n",
    "#         \"kernel_sizes\": [3, 3, 3],\n",
    "#         \"num_epochs\": 12,\n",
    "#         \"model_type\": \"Residual3\",\n",
    "#         \"clip_gradients\": True,\n",
    "#         \"use_instance_norm\": True,\n",
    "#         \"use_elu\": False,\n",
    "#         \"leaky_relu_alpha\": 0.01,\n",
    "#     }\n",
    "# )"
   ]
  },
  {
   "cell_type": "code",
   "execution_count": 4,
   "metadata": {},
   "outputs": [
    {
     "name": "stderr",
     "output_type": "stream",
     "text": [
      "2024-06-25 08:59:55,973 - INFO - Starting run_170 with hparams {\n",
      "  \"batch_size\": 64,\n",
      "  \"bin_count\": 16,\n",
      "  \"clip_gradients\": true,\n",
      "  \"dropout_prob\": 0.09784778880383105,\n",
      "  \"edit_count\": 12,\n",
      "  \"elu_alpha\": 0.5588538605400805,\n",
      "  \"features\": [\n",
      "    8,\n",
      "    16,\n",
      "    32\n",
      "  ],\n",
      "  \"kernel_sizes\": [\n",
      "    3,\n",
      "    3,\n",
      "    3\n",
      "  ],\n",
      "  \"leaky_relu_alpha\": 0.012913890161555076,\n",
      "  \"leaky_relu_slope\": 0.022615416455484896,\n",
      "  \"learning_rate\": 0.002130094098871897,\n",
      "  \"model_type\": \"Residual3\",\n",
      "  \"num_epochs\": 12,\n",
      "  \"scheduler_gamma\": 0.8142448793722726,\n",
      "  \"use_elu\": true,\n",
      "  \"use_instance_norm\": false\n",
      "}\n",
      "2024-06-25 08:59:55,976 - INFO - Loaded 1000 original images\n",
      "2024-06-25 08:59:55,979 - INFO - Loaded 1000 original images\n",
      "/home/andras/miniconda3/envs/bipolaroid/lib/python3.12/site-packages/torch/jit/_trace.py:1102: TracerWarning: Output nr 1. of the traced function does not match the corresponding output of the Python function. Detailed error:\n",
      "Tensor-likes are not close!\n",
      "\n",
      "Mismatched elements: 442 / 262144 (0.2%)\n",
      "Greatest absolute difference: 0.00028640031814575195 at index (14, 0, 3, 6, 1) (up to 1e-05 allowed)\n",
      "Greatest relative difference: 0.03313953488372093 at index (52, 0, 2, 8, 3) (up to 1e-05 allowed)\n",
      "  _check_trace(\n",
      "2024-06-25 09:00:10,492 - INFO - Epoch 0 train loss: -668.9345343112946\n",
      "/home/andras/miniconda3/envs/bipolaroid/lib/python3.12/site-packages/matplotlib/collections.py:996: RuntimeWarning: invalid value encountered in sqrt\n",
      "  scale = np.sqrt(self._sizes) * dpi / 72.0 * self._factor\n",
      "2024-06-25 09:00:17,910 - INFO - Epoch 0 test loss: -677.4099225997925\n",
      "2024-06-25 09:00:27,392 - INFO - Epoch 1 train loss: -677.2842514514923\n",
      "2024-06-25 09:00:35,272 - INFO - Epoch 1 test loss: -677.350163936615\n",
      "2024-06-25 09:00:44,703 - INFO - Epoch 2 train loss: -677.5818197727203\n",
      "2024-06-25 09:00:52,274 - INFO - Epoch 2 test loss: -677.3433697223663\n",
      "2024-06-25 09:01:01,680 - INFO - Epoch 3 train loss: -677.3612790107727\n",
      "2024-06-25 09:01:09,430 - INFO - Epoch 3 test loss: -677.4993708133698\n",
      "2024-06-25 09:01:18,837 - INFO - Epoch 4 train loss: -677.3555946350098\n",
      "2024-06-25 09:01:26,721 - INFO - Epoch 4 test loss: -677.2696735858917\n",
      "2024-06-25 09:01:36,224 - INFO - Epoch 5 train loss: -677.4827179908752\n",
      "2024-06-25 09:01:44,065 - INFO - Epoch 5 test loss: -677.4189476966858\n",
      "2024-06-25 09:01:53,537 - INFO - Epoch 6 train loss: -677.5993602275848\n",
      "2024-06-25 09:02:01,438 - INFO - Epoch 6 test loss: -677.5275483131409\n",
      "2024-06-25 09:02:10,913 - INFO - Epoch 7 train loss: -677.417388677597\n",
      "2024-06-25 09:02:18,622 - INFO - Epoch 7 test loss: -677.5215902328491\n",
      "2024-06-25 09:02:28,085 - INFO - Epoch 8 train loss: -677.415346622467\n",
      "2024-06-25 09:02:36,597 - INFO - Epoch 8 test loss: -677.5785489082336\n",
      "2024-06-25 09:02:46,112 - INFO - Epoch 9 train loss: -677.4984295368195\n",
      "2024-06-25 09:02:54,038 - INFO - Epoch 9 test loss: -677.5197842121124\n",
      "2024-06-25 09:03:03,558 - INFO - Epoch 10 train loss: -677.4539258480072\n",
      "2024-06-25 09:03:11,486 - INFO - Epoch 10 test loss: -677.5460705757141\n",
      "2024-06-25 09:03:21,255 - INFO - Epoch 11 train loss: -677.54083776474\n",
      "2024-06-25 09:03:29,637 - INFO - Epoch 11 test loss: -677.658331155777\n",
      "2024-06-25 09:03:29,818 - INFO - Saving model to /home/andras/projects/bipolaroid/saved_models/run_143.pth\n",
      "2024-06-25 09:03:29,819 - INFO - Parameter count: 429457\n"
     ]
    }
   ],
   "source": [
    "from training import random_hparam_search\n",
    "from config import RUNS_PATH, TRAIN_DATA, TEST_DATA, MODELS_PATH\n",
    "\n",
    "\n",
    "random_hparam_search(\n",
    "    hyperparameters=hyperparameters,\n",
    "    train_data_paths=TRAIN_DATA,\n",
    "    test_data_paths=TEST_DATA,\n",
    "    models_path=MODELS_PATH,\n",
    "    tensorboard_path=RUNS_PATH,\n",
    "    timeout_hours=8,\n",
    "    device=device,\n",
    ")"
   ]
  }
 ],
 "metadata": {
  "kernelspec": {
   "display_name": "bipolaroid",
   "language": "python",
   "name": "python3"
  },
  "language_info": {
   "codemirror_mode": {
    "name": "ipython",
    "version": 3
   },
   "file_extension": ".py",
   "mimetype": "text/x-python",
   "name": "python",
   "nbconvert_exporter": "python",
   "pygments_lexer": "ipython3",
   "version": "3.12.2"
  }
 },
 "nbformat": 4,
 "nbformat_minor": 2
}
